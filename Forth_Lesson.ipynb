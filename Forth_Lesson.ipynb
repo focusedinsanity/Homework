{
 "cells": [
  {
   "cell_type": "markdown",
   "metadata": {},
   "source": [
    "## При помощи регулярок реализовать поиск автомобильного номера формата \"АА1234ББ\" в строке.\n",
    "## Над одной строкой последовательно провести следующие манипуляции:\n",
    "### 2. Заменить первые два вхождения \"f\" на F\n",
    "### 3. Подсчитать количество пробелов в строке, добавить это число в конец строки (f-строки)\n",
    "### 4. Проверить что строка заканчивается на это число.\n",
    "### 5. Привести всю строку к верхнему регистру.\n",
    "### 6. Проверить что строка состоит из символов в верхнем регистре\n",
    "### 7. Получить строку, беря каждый четвертый символ из первоначальной строки\n",
    "### 8. Удалить из строки в п.7 все цифры "
   ]
  },
  {
   "cell_type": "code",
   "execution_count": 6,
   "metadata": {},
   "outputs": [
    {
     "name": "stdout",
     "output_type": "stream",
     "text": [
      "['АА1234ББ', 'БЯ5762ЛЛ', 'ЫЙ1890ПЦ']\n",
      "HELLO MY FRIEND, GIVE ME YOUR CHARS: Give me your heart give me your soul fff 213145 5345345\n",
      "Give me your heart give me your soul FFf 213145 5345345\n",
      "all spaces in list  10\n",
      "['G', 'i', 'v', 'e', ' ', 'm', 'e', ' ', 'y', 'o', 'u', 'r', ' ', 'h', 'e', 'a', 'r', 't', ' ', 'g', 'i', 'v', 'e', ' ', 'm', 'e', ' ', 'y', 'o', 'u', 'r', ' ', 's', 'o', 'u', 'l', ' ', 'F', 'F', 'f', ' ', '2', '1', '3', '1', '4', '5', ' ', '5', '3', '4', '5', '3', '4', '5', 10]\n",
      "Совпадает ли число пробелов строки  с последним элементом списка?  True\n",
      "GIVE ME YOUR HEART GIVE ME YOUR SOUL FFF 213145 5345345\n",
      "Все символы в верхнем реестре?  True\n",
      "every forth element in list  ['G', ' ', 'Y', ' ', 'R', 'I', 'M', 'O', 'S', ' ', ' ', '1', '5', '3']\n",
      "G Y RIMOS  153\n",
      "G Y RIMOS  \n"
     ]
    }
   ],
   "source": [
    "import re\n",
    "\n",
    "\n",
    "#Первое задание\n",
    "\n",
    "car_number = '31231235sdsАА1234ББzdsfsdvsdgw_БЯ5762ЛЛ_ЫЙ1890ПЦ'\n",
    "\n",
    "# Первая попытка: car_search = re.findall('\\А{2}\\d{4}\\Б{2}', car_number)\n",
    "# Вторая попытка: car_search = re.findall(r'[А-Я].......', car_number)\n",
    "\n",
    "#Финалочка:\n",
    "car_search = re.findall(r'[А-Я]{2}\\d{4}[А-Я]{2}', car_number)\n",
    "\n",
    "print(car_search)\n",
    "\n",
    "some_chars = input('HELLO MY FRIEND, GIVE ME YOUR CHARS: ')\n",
    "#Второе задание\n",
    "some_chars = some_chars.replace('f', 'F', 2) \n",
    "\n",
    "print(some_chars)\n",
    "\n",
    "#Третье задание\n",
    "\n",
    "spaces_in_some_str = re.findall(' ', some_chars) \n",
    "\n",
    "spaces_in_some_str = len(spaces_in_some_str)\n",
    "\n",
    "print('all spaces in list ', spaces_in_some_str) \n",
    "\n",
    "#Четвертое задание\n",
    "\n",
    "some_chars_list = list(some_chars)\n",
    "\n",
    "some_chars_list.append(spaces_in_some_str)\n",
    "print(some_chars_list)\n",
    "\n",
    "print('Совпадает ли число пробелов строки  с последним элементом списка? ', spaces_in_some_str == some_chars_list[-1])\n",
    "\n",
    "#Пятое задание\n",
    "\n",
    "some_chars = some_chars.upper()\n",
    "\n",
    "print(some_chars)\n",
    "\n",
    "print('Все символы в верхнем реестре? ', some_chars.isupper())\n",
    "\n",
    "#Шестое задание\n",
    "\n",
    "some_chars = some_chars[0::4]\n",
    "\n",
    "print('every forth element in list ', list(some_chars))\n",
    "\n",
    "print(some_chars)\n",
    "\n",
    "#Седьмое задание\n",
    "some_chars = some_chars.strip('1234567890')\n",
    "\n",
    "print(some_chars)"
   ]
  }
 ],
 "metadata": {
  "kernelspec": {
   "display_name": "Python 3",
   "language": "python",
   "name": "python3"
  },
  "language_info": {
   "codemirror_mode": {
    "name": "ipython",
    "version": 3
   },
   "file_extension": ".py",
   "mimetype": "text/x-python",
   "name": "python",
   "nbconvert_exporter": "python",
   "pygments_lexer": "ipython3",
   "version": "3.8.3"
  }
 },
 "nbformat": 4,
 "nbformat_minor": 4
}
