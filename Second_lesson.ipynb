{
 "cells": [
  {
   "cell_type": "markdown",
   "metadata": {},
   "source": [
    "# Получить от пользователя данные.\n",
    "#  При помощи конструкции try-except-finally(сделать вложенной при необходимости) попытаться:\n",
    "\n",
    "## Задание №1\n",
    "## Выяснить является ли полученная информация числом с плавающей запятой. В случае успеха выяснить при помощи вложенной конструкции if-elif-else:\n",
    "\n",
    "### 1. Выяснить является ли полученная информация числом с плавающей запятой. В случае успеха выяснить при помощи вложенной конструкции if-elif-else:\n",
    "### 1.1 Число больше 10 и меньше 20 - сообщение, число больше 20 и меньше 30- сообщение,  меньше нуля - привести число к положительному знаку, любой другой вариант - сообщение."
   ]
  },
  {
   "cell_type": "code",
   "execution_count": 37,
   "metadata": {},
   "outputs": [
    {
     "name": "stdout",
     "output_type": "stream",
     "text": [
      "Напиши любое число-4\n",
      "-4\n",
      "<class 'str'>\n",
      "Число не в том формате или это не число\n",
      "4.0\n",
      "Теперь положительное\n",
      "-4.0\n"
     ]
    }
   ],
   "source": [
    "x = input('Напиши любое число')\n",
    "\n",
    "print(x)\n",
    "\n",
    "print(type(x))\n",
    "\n",
    "\n",
    "def ifclause(b):\n",
    "    if type(float(b)) == type(b):\n",
    "        if 10 <= b < 20:\n",
    "            print(\"число от 10 до 20\")\n",
    "        elif 20 <= b < 30:\n",
    "            print(\"число от 20 до 30\")\n",
    "        elif b < 0:\n",
    "            b = abs(b)\n",
    "            print(b)\n",
    "            res = 'Теперь положительное'\n",
    "            print(res)\n",
    "    else:\n",
    "        print(\"Число не в том формате или это не число\")\n",
    "\n",
    "\n",
    "try:\n",
    "    ifclause(x)\n",
    "    x = float(x)\n",
    "    ifclause(x)\n",
    "\n",
    "except ValueError:\n",
    "    x = input(\"Напиши число с плавующей запятой\")\n",
    "    x = float(x)\n",
    "    ifclause(x)\n",
    "\n",
    "finally:\n",
    "    print(x)\n",
    "    "
   ]
  },
  {
   "cell_type": "markdown",
   "metadata": {},
   "source": [
    "# Задание №2 \n",
    "## Выяснить является ли полученная информация целочисленным числом. В случае успеха при помощи тернарного оператора:\n",
    "\n",
    "###  Cообщение значение которого равно числу в степени 3 если число положительно (0 - также положителен), если число отрицательно - число в степени 2"
   ]
  },
  {
   "cell_type": "code",
   "execution_count": 9,
   "metadata": {},
   "outputs": [
    {
     "name": "stdout",
     "output_type": "stream",
     "text": [
      "Напиши любое целое число-2\n",
      "4\n"
     ]
    }
   ],
   "source": [
    "b = input('Напиши любое целое число')\n",
    "\n",
    "#try:\n",
    "#     b = int(b)\n",
    "#     if b >= 0:\n",
    "#         print(\"вот третья степень Вашего числа\")\n",
    "#         b = b ** 3\n",
    "#         print(b)\n",
    "#     else:\n",
    "#         print(\"вот вторая степень Вашего числа\")\n",
    "#         b = b ** 2\n",
    "#         print(b)\n",
    "b = int(b)\n",
    "\n",
    "result = b ** 3 if b >= 0 else b ** 2\n",
    "\n",
    "print(result)\n",
    "\n",
    "# except ValueError:\n",
    "\n",
    "#     print('Надо было целое число вводить')\n"
   ]
  },
  {
   "cell_type": "markdown",
   "metadata": {},
   "source": [
    "# Задние №3\n",
    "\n",
    "## Оставшийся вариант ввода это строка\n",
    "\n",
    "## 3.1 Если строка пуста сообщить об этом пользователю - поместить эту пустую строку в сообщение.\n",
    "## 3.2 Если строка не пуста проверить наличие в ней последовательности символов \"abc\"\n",
    "## 3.2.1 Если последовательность найдена - сообщение\n",
    "## 3.2.2 Если последовательность не найдена - сообщение"
   ]
  },
  {
   "cell_type": "code",
   "execution_count": 12,
   "metadata": {},
   "outputs": [
    {
     "name": "stdout",
     "output_type": "stream",
     "text": [
      "Напиши что-нибудьabc\n",
      "abc\n",
      "Well done\n"
     ]
    }
   ],
   "source": [
    "b = input('Напиши что-нибудь')\n",
    "print(b)\n",
    "if b is None:\n",
    "    res1: print(\"Ну как бы введи что-нибудь, ну\")\n",
    "elif 'abc' in b:\n",
    "    print('Well done')\n",
    "else:\n",
    "    print('Not good')"
   ]
  }
 ],
 "metadata": {
  "kernelspec": {
   "display_name": "Python 3",
   "language": "python",
   "name": "python3"
  },
  "language_info": {
   "codemirror_mode": {
    "name": "ipython",
    "version": 3
   },
   "file_extension": ".py",
   "mimetype": "text/x-python",
   "name": "python",
   "nbconvert_exporter": "python",
   "pygments_lexer": "ipython3",
   "version": "3.8.3"
  }
 },
 "nbformat": 4,
 "nbformat_minor": 4
}
