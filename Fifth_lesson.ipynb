{
 "cells": [
  {
   "cell_type": "code",
   "execution_count": 1,
   "metadata": {},
   "outputs": [
    {
     "name": "stdout",
     "output_type": "stream",
     "text": [
      "{0, 1, 2, 9}\n",
      "{3, 4, 5, 6, 7, 8}\n",
      "[set()]\n"
     ]
    }
   ],
   "source": [
    "my_dict = {element: element for element in range(10)}\n",
    "\n",
    "text = 'dsvwerherhwasdl2109'\n",
    "if_yes = []\n",
    "if_no = []\n",
    "\n",
    "\n",
    "for key, value in my_dict.items():\n",
    "    key = str(key)\n",
    "    if key in text:\n",
    "        if_yes.append(value)\n",
    "    else:\n",
    "        if_no.append(value)\n",
    "\n",
    "if_yes = set(if_yes)\n",
    "\n",
    "if_no = set(if_no)\n",
    "\n",
    "intersections = [if_yes.intersection(if_no)]\n",
    "\n",
    "print(if_yes)\n",
    "\n",
    "print(if_no)\n",
    "\n",
    "print(intersections)\n"
   ]
  }
 ],
 "metadata": {
  "kernelspec": {
   "display_name": "Python 3",
   "language": "python",
   "name": "python3"
  },
  "language_info": {
   "codemirror_mode": {
    "name": "ipython",
    "version": 3
   },
   "file_extension": ".py",
   "mimetype": "text/x-python",
   "name": "python",
   "nbconvert_exporter": "python",
   "pygments_lexer": "ipython3",
   "version": "3.8.3"
  }
 },
 "nbformat": 4,
 "nbformat_minor": 4
}
