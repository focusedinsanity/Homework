{
 "cells": [
  {
   "cell_type": "markdown",
   "metadata": {},
   "source": [
    "# Вводится целое число, число может быть отрицательным. Вывести на экран количество разрядов в нем (While, abs и остаток от деления вам помогут)\n"
   ]
  },
  {
   "cell_type": "code",
   "execution_count": 1,
   "metadata": {},
   "outputs": [
    {
     "name": "stdout",
     "output_type": "stream",
     "text": [
      "Please write down Int number-1\n",
      "1\n"
     ]
    }
   ],
   "source": [
    "\n",
    "x = input('Please write down Int number')\n",
    "\n",
    "x = abs(int(x))\n",
    "\n",
    "i = 0\n",
    "\n",
    "while x >= 1:\n",
    "    x = x // 10\n",
    "# print('i on this iteration is ', i)\n",
    "    i += 1\n",
    "\n",
    "print(i)"
   ]
  },
  {
   "cell_type": "markdown",
   "metadata": {},
   "source": [
    "# Задается случайное вещественное число. Определить максимальную цифру этого числа.(for и приведение типов)\n"
   ]
  },
  {
   "cell_type": "code",
   "execution_count": 3,
   "metadata": {},
   "outputs": [
    {
     "name": "stdout",
     "output_type": "stream",
     "text": [
      "Please write down a number-12345\n",
      "Max number is  5\n"
     ]
    }
   ],
   "source": [
    "x = input('Please write down a number')\n",
    "\n",
    "# x = max(x)\n",
    "# print(x)\n",
    "# Zachem cikl voobshe?\n",
    "Num = max(x)\n",
    "\n",
    "for Max in x:\n",
    "    if Max == Num:\n",
    "        print('Max number is ', Max)\n",
    "        break\n",
    "else:\n",
    "    print('Not good')"
   ]
  }
 ],
 "metadata": {
  "kernelspec": {
   "display_name": "Python 3",
   "language": "python",
   "name": "python3"
  },
  "language_info": {
   "codemirror_mode": {
    "name": "ipython",
    "version": 3
   },
   "file_extension": ".py",
   "mimetype": "text/x-python",
   "name": "python",
   "nbconvert_exporter": "python",
   "pygments_lexer": "ipython3",
   "version": "3.8.3"
  }
 },
 "nbformat": 4,
 "nbformat_minor": 4
}
