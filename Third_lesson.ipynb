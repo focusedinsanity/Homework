{
 "cells": [
  {
   "cell_type": "markdown",
   "metadata": {},
   "source": [
    "# Вводится целое число, число может быть отрицательным. Вывести на экран количество разрядов в нем (While, abs и остаток от деления вам помогут)\n"
   ]
  },
  {
   "cell_type": "code",
   "execution_count": 3,
   "metadata": {},
   "outputs": [
    {
     "name": "stdout",
     "output_type": "stream",
     "text": [
      "Please write down Int number12345\n",
      "5\n"
     ]
    }
   ],
   "source": [
    "\n",
    "x = input('Please write down Int number')\n",
    "\n",
    "x = abs(int(x))\n",
    "\n",
    "i = 0\n",
    "\n",
    "while x >= 1:\n",
    "    x = x // 10\n",
    "# print('i on this iteration is ', i)\n",
    "    i += 1\n",
    "\n",
    "print(i)"
   ]
  },
  {
   "cell_type": "markdown",
   "metadata": {},
   "source": [
    "# Задается случайное вещественное число. Определить максимальную цифру этого числа.(for и приведение типов)\n"
   ]
  },
  {
   "cell_type": "code",
   "execution_count": 10,
   "metadata": {},
   "outputs": [
    {
     "name": "stdout",
     "output_type": "stream",
     "text": [
      "Please write down a number-126549\n",
      "This is the biggest digit:  9\n"
     ]
    }
   ],
   "source": [
    "integer_number = input('Please write down a number')\n",
    "\n",
    "try:\n",
    "    integer_number = abs(int(integer_number))\n",
    "\n",
    "    max_number = 0\n",
    "\n",
    "    for variable in str(integer_number):\n",
    "        variable_int = int(variable)\n",
    "        if max_number < variable_int:\n",
    "            max_number = variable_int\n",
    "\n",
    "    print('This is the biggest digit: ', max_number)\n",
    "\n",
    "except:\n",
    "    print('Next time you should use integer number')"
   ]
  }
 ],
 "metadata": {
  "kernelspec": {
   "display_name": "Python 3",
   "language": "python",
   "name": "python3"
  },
  "language_info": {
   "codemirror_mode": {
    "name": "ipython",
    "version": 3
   },
   "file_extension": ".py",
   "mimetype": "text/x-python",
   "name": "python",
   "nbconvert_exporter": "python",
   "pygments_lexer": "ipython3",
   "version": "3.8.3"
  }
 },
 "nbformat": 4,
 "nbformat_minor": 4
}
