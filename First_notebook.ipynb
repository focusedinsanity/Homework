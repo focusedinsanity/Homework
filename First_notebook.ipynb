{
 "cells": [
  {
   "cell_type": "markdown",
   "metadata": {},
   "source": [
    "# Задание номер 1\n",
    "## Привести строковое значение \"3\" к целочисленному и десятичному (с плавающей запятой) типам данных"
   ]
  },
  {
   "cell_type": "code",
   "execution_count": 11,
   "metadata": {},
   "outputs": [
    {
     "name": "stdout",
     "output_type": "stream",
     "text": [
      "<class 'float'>\n"
     ]
    }
   ],
   "source": [
    "variable_str = \"3\"\n",
    "\n",
    "variable_str=(float(variable_str))\n",
    "\n",
    "print(type(variable_str))\n",
    "\n"
   ]
  },
  {
   "cell_type": "markdown",
   "metadata": {},
   "source": [
    "# Задание номер 2\n",
    "## Попытаться привести строковое значение \"3.14\" к целочисленному и десятичному (с плавающей запятой) типу данных."
   ]
  },
  {
   "cell_type": "code",
   "execution_count": 13,
   "metadata": {},
   "outputs": [
    {
     "name": "stdout",
     "output_type": "stream",
     "text": [
      "привидение к целочисленному числу\n",
      "<class 'int'>\n",
      "приведение к десятичному\n",
      "<class 'float'>\n"
     ]
    }
   ],
   "source": [
    "variable_str = \"3.14\"\n",
    "\n",
    "variable_str = int(round(float(variable_str)))\n",
    "\n",
    "print(\"привидение к целочисленному числу\")\n",
    "print(type(variable_str))\n",
    "\n",
    "variable_str = float(variable_str)\n",
    "\n",
    "print(\"приведение к десятичному\") \n",
    "print(type(variable_str))\n"
   ]
  },
  {
   "cell_type": "markdown",
   "metadata": {},
   "source": [
    "# Задание номер 3\n",
    "## Получить от пользователя два числа с плавающей запятой, первое - основание степени, второе - показатель степени. Вывести результат на экран.\n"
   ]
  },
  {
   "cell_type": "code",
   "execution_count": 23,
   "metadata": {},
   "outputs": [
    {
     "name": "stdout",
     "output_type": "stream",
     "text": [
      "Введи первое число1.5\n",
      "1.5\n",
      "Введи второе число7.1\n",
      "7.1\n",
      "получи число в степени\n",
      "17.792949219620326\n"
     ]
    }
   ],
   "source": [
    "x = float(input(\"Введи первое число\"))\n",
    "print(x)\n",
    "\n",
    "y = float(input(\"Введи второе число\"))\n",
    "print(y)\n",
    "\n",
    "z = x**y\n",
    "\n",
    "print(\"получи число в степени\")\n",
    "\n",
    "print(z)"
   ]
  }
 ],
 "metadata": {
  "kernelspec": {
   "display_name": "Python 3",
   "language": "python",
   "name": "python3"
  },
  "language_info": {
   "codemirror_mode": {
    "name": "ipython",
    "version": 3
   },
   "file_extension": ".py",
   "mimetype": "text/x-python",
   "name": "python",
   "nbconvert_exporter": "python",
   "pygments_lexer": "ipython3",
   "version": "3.8.3"
  }
 },
 "nbformat": 4,
 "nbformat_minor": 4
}
